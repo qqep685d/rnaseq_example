{
 "cells": [
  {
   "cell_type": "markdown",
   "metadata": {},
   "source": [
    "# Pythonでデータ解析\n",
    "　ここでは、遺伝子発現量ファイルをPythonプログラムで扱う練習をします。ファイルの読み込み、表示、条件にあうデータ行の抽出をおこないます。また、データのグラフ化、統計処理もおこなってみます。  \n",
    "　サンプルデータは、赤シソと青シソの遺伝子発現量のデータです。  \n",
    "\n",
    "---\n",
    "\n",
    "## 0. Jupyter Notebookの基本\n",
    "- 現在のセルのプログラムを実行する: __Ctrl + Enter__    \n",
    "\n",
    "- 現在のセルのプログラムを実行し、次のセルに移る: __Shift + Enter__  \n",
    "- 直前の動作をやり直す: __Ctrl + Z__ (Macの場合 __command + Z__)    \n",
    "誤ってプログラムを消してしまった場合によく使います。  \n",
    "- その他のショートカットを知りたい場合:  __Help > Keyboard Shortcuts__   \n",
    "- ファイルの名前を変更する: __File > Rename__"
   ]
  },
  {
   "cell_type": "code",
   "execution_count": 2,
   "metadata": {
    "collapsed": true
   },
   "outputs": [],
   "source": [
    "# 必要なライブラリをインポートする\n",
    "import re\n",
    "import pandas as pd\n",
    "import numpy as np\n",
    "import matplotlib.pyplot as plt\n",
    "from scipy import stats\n",
    "%matplotlib inline"
   ]
  },
  {
   "cell_type": "markdown",
   "metadata": {},
   "source": [
    "## 1. テキストファイル読み込み・表示\n",
    "[読み込むファイル]  \n",
    "* ./05_cuffdiff_out/gene_exp.diff\n",
    "\n",
    "[使用する関数] \n",
    "* ファイルを開く _open()_  \n",
    "* ファイルを閉じる _close()_ \n",
    "* 一行読み込む _readline()_  \n",
    "* 全ての行を読み込む _readlines()_  \n",
    "* 表示する _print()_  \n",
    "* 繰り返し処理をする _for ~ in ...:_  \n",
    "* 条件分岐させる　_if ~: ... else: ..._ \n",
    "* 改行コードを除去する _rstrip()_   \n",
    "* 行をタブコードで分割する: _split('\\t')_"
   ]
  },
  {
   "cell_type": "code",
   "execution_count": null,
   "metadata": {
    "collapsed": true
   },
   "outputs": [],
   "source": []
  },
  {
   "cell_type": "code",
   "execution_count": null,
   "metadata": {
    "collapsed": true
   },
   "outputs": [],
   "source": []
  },
  {
   "cell_type": "markdown",
   "metadata": {},
   "source": [
    "[例]  \n",
    "\n",
    "```python\n",
    "f = open('./05_cuffdiff_out/gene_exp.diff', 'r')\n",
    "lines = f.readlines()\n",
    "f.close()\n",
    "\n",
    "for line in lines:\n",
    "    line = line.rstrip()\n",
    "    items = line.split('\\t')\n",
    "    if 'yes' == items[-1]:\n",
    "        print('This is \"yes\" line')\n",
    "    else:\n",
    "        print('This is \"no\" line')\n",
    "```"
   ]
  },
  {
   "cell_type": "markdown",
   "metadata": {
    "collapsed": true
   },
   "source": [
    "---\n",
    "# 2. データフレームを使う\n",
    "[データブレーム]  \n",
    "- Excelのような行列表  \n",
    "\n",
    "[使用する関数]　　\n",
    "- データフレームとしてファイルを読み込む __pd.read_csv(FILE_PATH, sep=..., header=...)__  \n",
    "- 値の数をカウントする __value_counts()__  \n",
    "- 条件にマッチするデータのみ表示する __isin()__\n",
    "- 指定した列のデータを表示する __df.loc__"
   ]
  },
  {
   "cell_type": "code",
   "execution_count": null,
   "metadata": {
    "collapsed": false
   },
   "outputs": [],
   "source": []
  },
  {
   "cell_type": "code",
   "execution_count": null,
   "metadata": {
    "collapsed": true
   },
   "outputs": [],
   "source": []
  },
  {
   "cell_type": "code",
   "execution_count": null,
   "metadata": {
    "collapsed": false
   },
   "outputs": [],
   "source": []
  },
  {
   "cell_type": "markdown",
   "metadata": {},
   "source": [
    "[例]\n",
    "\n",
    "```python\n",
    "# データフレームとしてファイルを読み込む\n",
    "diff = './05_cuffdiff_out/gene_exp.diff'\n",
    "df = pd.read_csv(diff, sep='\\t', header=0)\n",
    "df\n",
    "```\n",
    "\n",
    "---\n",
    "\n",
    "```python\n",
    "# 指定した行のデータを表示する\n",
    "df[1:3]\n",
    "\n",
    "# 指定した列のデータを表示する\n",
    "df.loc[:,['locus', 'sample_1', 'sample_2', 'value_1','value_2', 'q_value', 'significant']]\n",
    "```\n",
    "\n",
    "---\n",
    "\n",
    "```python\n",
    "# 値の数をカウントする\n",
    "df['significant'].value_counts()\n",
    "```\n",
    "\n",
    "---\n",
    "\n",
    "```python\n",
    "# 条件にマッチするデータのみ表示する\n",
    "sig_yes = df[df['significant'].isin(['yes'])]\n",
    "sig_yes\n",
    "\n",
    "#sig_no = df[df['significant'].isin(['no'])]\n",
    "```"
   ]
  },
  {
   "cell_type": "markdown",
   "metadata": {},
   "source": [
    "## 3. グラフ表示\n",
    "__plt.figure()__, __add_subplot__ など"
   ]
  },
  {
   "cell_type": "code",
   "execution_count": 38,
   "metadata": {
    "collapsed": true
   },
   "outputs": [],
   "source": [
    "# 各座標の準備\n",
    "x = df['value_1']\n",
    "y = df['value_2']\n",
    "\n",
    "# 図の準備\n",
    "#fig = plt.figure()\n",
    "#ax = fig.add_subplot(1,1,1)\n",
    "\n",
    "# 座標データをプロットする\n",
    "#ax.scatter(x,y, c='silver')\n",
    "\n",
    "# 図の装飾（タイトルや軸ラベルなど）\n",
    "#ax.set_title('Gene Expression Plot')\n",
    "#ax.set_xlabel('Gene Expression (FPKM) of red perilla')\n",
    "#ax.set_ylabel('Gene Expression (FPKM) of green perilla')\n",
    "#plt.style.use('ggplot')\n",
    "\n",
    "# 図の描画\n",
    "#fig.show()"
   ]
  },
  {
   "cell_type": "markdown",
   "metadata": {},
   "source": [
    "[例1] 散布図\n",
    "\n",
    "```\n",
    "# 各座標の準備\n",
    "# \"yes\"データの(x座標, y座標)=(value_1, value_2)を取得する。\n",
    "x1 = sig_yes['value_1']\n",
    "y1 = sig_yes['value_2']\n",
    "# \"no\"データの(x座標, y座標)=(value_1, value_2)を取得する。\n",
    "x2 = sig_no['value_1']\n",
    "y2 = sig_no['value_2']\n",
    "\n",
    "# 対数値に変換 (log)\n",
    "x1 = np.log10(x1 + 10**(-10))\n",
    "y1 = np.log10(y1 + 10**(-10))\n",
    "x2 = np.log10(x2 + 10**(-10))\n",
    "y2 = np.log10(y2 + 10**(-10))\n",
    "\n",
    "# 図の準備\n",
    "fig = plt.figure()\n",
    "ax = fig.add_subplot(1,1,1)\n",
    "\n",
    "# 座標データをプロットする\n",
    "ax.scatter(x2,y2, c='silver')\n",
    "ax.scatter(x1,y1, c='red')\n",
    "\n",
    "# 図の装飾（タイトルや軸ラベルなど）\n",
    "ax.set_title('Gene Expression Plot')\n",
    "ax.set_xlabel('Gene Expression (FPKM) of red perilla')\n",
    "ax.set_ylabel('Gene Expression (FPKM) of green perilla')\n",
    "plt.style.use('ggplot')\n",
    "\n",
    "# 図の描画\n",
    "fig.show()\n",
    "```\n",
    "---\n",
    "![fpkm_scatterplot](./etc/fpkm_scatterplot.png \"FPKM scatter plot\")"
   ]
  },
  {
   "cell_type": "markdown",
   "metadata": {},
   "source": [
    "[例2] 箱ひげ図\n",
    "\n",
    "```python\n",
    "# データ準備\n",
    "red = list(np.log10(df['value_1'] + 10**(-10)))\n",
    "green = list(np.log10(df['value_2'] + 10**(-10)))\n",
    "\n",
    "# 図の準備\n",
    "fig = plt.figure()\n",
    "ax = fig.add_subplot(1,1,1)\n",
    "\n",
    "# 箱ひげ図にデータをプロットする\n",
    "cmp = (red, green)\n",
    "bp = ax.boxplot(cmp)\n",
    "\n",
    "# 図の装飾\n",
    "plt.title('Box plot of Gene Expression')\n",
    "plt.ylabel('log10 of FPKM')\n",
    "ax.set_xticklabels(['red perilla', 'green perilla'])\n",
    "plt.style.use('ggplot')\n",
    "\n",
    "# 図の描画\n",
    "plt.show()\n",
    "```\n",
    "---\n",
    "![fpkm_boxplot](./etc/fpkm_boxplot.png \"FPKM box plot\")"
   ]
  },
  {
   "cell_type": "markdown",
   "metadata": {},
   "source": [
    "## 4. 統計処理\n",
    "対応のある２群のt検定 __stats.ttest_rel()__"
   ]
  },
  {
   "cell_type": "code",
   "execution_count": 14,
   "metadata": {
    "collapsed": false
   },
   "outputs": [
    {
     "data": {
      "text/html": [
       "<div>\n",
       "<table border=\"1\" class=\"dataframe\">\n",
       "  <thead>\n",
       "    <tr style=\"text-align: right;\">\n",
       "      <th></th>\n",
       "      <th>locus</th>\n",
       "      <th>sample_1</th>\n",
       "      <th>sample_2</th>\n",
       "      <th>value_1</th>\n",
       "      <th>value_2</th>\n",
       "      <th>q_value</th>\n",
       "      <th>significant</th>\n",
       "    </tr>\n",
       "  </thead>\n",
       "  <tbody>\n",
       "    <tr>\n",
       "      <th>0</th>\n",
       "      <td>c10478_g1_i1:4-878</td>\n",
       "      <td>red_perilla</td>\n",
       "      <td>green_perilla</td>\n",
       "      <td>31265.30</td>\n",
       "      <td>39514.70</td>\n",
       "      <td>0.096678</td>\n",
       "      <td>no</td>\n",
       "    </tr>\n",
       "    <tr>\n",
       "      <th>1</th>\n",
       "      <td>c1235_g1_i1:0-358</td>\n",
       "      <td>red_perilla</td>\n",
       "      <td>green_perilla</td>\n",
       "      <td>18899.00</td>\n",
       "      <td>25190.00</td>\n",
       "      <td>0.450315</td>\n",
       "      <td>no</td>\n",
       "    </tr>\n",
       "    <tr>\n",
       "      <th>2</th>\n",
       "      <td>c14532_g1_i1:672-1250</td>\n",
       "      <td>red_perilla</td>\n",
       "      <td>green_perilla</td>\n",
       "      <td>1036.71</td>\n",
       "      <td>6905.89</td>\n",
       "      <td>0.098630</td>\n",
       "      <td>no</td>\n",
       "    </tr>\n",
       "    <tr>\n",
       "      <th>3</th>\n",
       "      <td>c14964_g1_i1:0-1591</td>\n",
       "      <td>red_perilla</td>\n",
       "      <td>green_perilla</td>\n",
       "      <td>96498.60</td>\n",
       "      <td>106401.00</td>\n",
       "      <td>0.096678</td>\n",
       "      <td>no</td>\n",
       "    </tr>\n",
       "    <tr>\n",
       "      <th>4</th>\n",
       "      <td>c18250_g2_i1:33-1490</td>\n",
       "      <td>red_perilla</td>\n",
       "      <td>green_perilla</td>\n",
       "      <td>139165.00</td>\n",
       "      <td>27992.50</td>\n",
       "      <td>0.000175</td>\n",
       "      <td>yes</td>\n",
       "    </tr>\n",
       "    <tr>\n",
       "      <th>5</th>\n",
       "      <td>c18250_g2_i2:33-1519</td>\n",
       "      <td>red_perilla</td>\n",
       "      <td>green_perilla</td>\n",
       "      <td>135968.00</td>\n",
       "      <td>24295.30</td>\n",
       "      <td>0.000175</td>\n",
       "      <td>yes</td>\n",
       "    </tr>\n",
       "    <tr>\n",
       "      <th>6</th>\n",
       "      <td>c20303_g1_i1:0-1582</td>\n",
       "      <td>red_perilla</td>\n",
       "      <td>green_perilla</td>\n",
       "      <td>255968.00</td>\n",
       "      <td>55893.00</td>\n",
       "      <td>0.000175</td>\n",
       "      <td>yes</td>\n",
       "    </tr>\n",
       "    <tr>\n",
       "      <th>7</th>\n",
       "      <td>c2030_g1_i1:0-433</td>\n",
       "      <td>red_perilla</td>\n",
       "      <td>green_perilla</td>\n",
       "      <td>21027.10</td>\n",
       "      <td>10418.10</td>\n",
       "      <td>0.096678</td>\n",
       "      <td>no</td>\n",
       "    </tr>\n",
       "    <tr>\n",
       "      <th>8</th>\n",
       "      <td>c21075_g2_i1:0-1482</td>\n",
       "      <td>red_perilla</td>\n",
       "      <td>green_perilla</td>\n",
       "      <td>485920.00</td>\n",
       "      <td>107958.00</td>\n",
       "      <td>0.000175</td>\n",
       "      <td>yes</td>\n",
       "    </tr>\n",
       "    <tr>\n",
       "      <th>9</th>\n",
       "      <td>c22175_g1_i1:0-492</td>\n",
       "      <td>red_perilla</td>\n",
       "      <td>green_perilla</td>\n",
       "      <td>16423.80</td>\n",
       "      <td>29570.80</td>\n",
       "      <td>0.076160</td>\n",
       "      <td>no</td>\n",
       "    </tr>\n",
       "    <tr>\n",
       "      <th>10</th>\n",
       "      <td>c26519_g1_i1:0-387</td>\n",
       "      <td>red_perilla</td>\n",
       "      <td>green_perilla</td>\n",
       "      <td>24600.00</td>\n",
       "      <td>27639.20</td>\n",
       "      <td>0.686500</td>\n",
       "      <td>no</td>\n",
       "    </tr>\n",
       "    <tr>\n",
       "      <th>11</th>\n",
       "      <td>c33987_g1_i1:0-287</td>\n",
       "      <td>red_perilla</td>\n",
       "      <td>green_perilla</td>\n",
       "      <td>55510.20</td>\n",
       "      <td>25875.90</td>\n",
       "      <td>0.096678</td>\n",
       "      <td>no</td>\n",
       "    </tr>\n",
       "    <tr>\n",
       "      <th>12</th>\n",
       "      <td>c41275_g1_i1:0-688</td>\n",
       "      <td>red_perilla</td>\n",
       "      <td>green_perilla</td>\n",
       "      <td>47475.00</td>\n",
       "      <td>41485.00</td>\n",
       "      <td>0.346383</td>\n",
       "      <td>no</td>\n",
       "    </tr>\n",
       "    <tr>\n",
       "      <th>13</th>\n",
       "      <td>c8983_g1_i1:0-396</td>\n",
       "      <td>red_perilla</td>\n",
       "      <td>green_perilla</td>\n",
       "      <td>5659.34</td>\n",
       "      <td>18778.50</td>\n",
       "      <td>0.100609</td>\n",
       "      <td>no</td>\n",
       "    </tr>\n",
       "  </tbody>\n",
       "</table>\n",
       "</div>"
      ],
      "text/plain": [
       "                    locus     sample_1       sample_2    value_1    value_2  \\\n",
       "0      c10478_g1_i1:4-878  red_perilla  green_perilla   31265.30   39514.70   \n",
       "1       c1235_g1_i1:0-358  red_perilla  green_perilla   18899.00   25190.00   \n",
       "2   c14532_g1_i1:672-1250  red_perilla  green_perilla    1036.71    6905.89   \n",
       "3     c14964_g1_i1:0-1591  red_perilla  green_perilla   96498.60  106401.00   \n",
       "4    c18250_g2_i1:33-1490  red_perilla  green_perilla  139165.00   27992.50   \n",
       "5    c18250_g2_i2:33-1519  red_perilla  green_perilla  135968.00   24295.30   \n",
       "6     c20303_g1_i1:0-1582  red_perilla  green_perilla  255968.00   55893.00   \n",
       "7       c2030_g1_i1:0-433  red_perilla  green_perilla   21027.10   10418.10   \n",
       "8     c21075_g2_i1:0-1482  red_perilla  green_perilla  485920.00  107958.00   \n",
       "9      c22175_g1_i1:0-492  red_perilla  green_perilla   16423.80   29570.80   \n",
       "10     c26519_g1_i1:0-387  red_perilla  green_perilla   24600.00   27639.20   \n",
       "11     c33987_g1_i1:0-287  red_perilla  green_perilla   55510.20   25875.90   \n",
       "12     c41275_g1_i1:0-688  red_perilla  green_perilla   47475.00   41485.00   \n",
       "13      c8983_g1_i1:0-396  red_perilla  green_perilla    5659.34   18778.50   \n",
       "\n",
       "     q_value significant  \n",
       "0   0.096678          no  \n",
       "1   0.450315          no  \n",
       "2   0.098630          no  \n",
       "3   0.096678          no  \n",
       "4   0.000175         yes  \n",
       "5   0.000175         yes  \n",
       "6   0.000175         yes  \n",
       "7   0.096678          no  \n",
       "8   0.000175         yes  \n",
       "9   0.076160          no  \n",
       "10  0.686500          no  \n",
       "11  0.096678          no  \n",
       "12  0.346383          no  \n",
       "13  0.100609          no  "
      ]
     },
     "execution_count": 14,
     "metadata": {},
     "output_type": "execute_result"
    }
   ],
   "source": [
    "df.loc[:,['locus', 'sample_1', 'sample_2', 'value_1','value_2', 'q_value', 'significant']]"
   ]
  },
  {
   "cell_type": "code",
   "execution_count": 15,
   "metadata": {
    "collapsed": false
   },
   "outputs": [
    {
     "data": {
      "text/plain": [
       "Ttest_relResult(statistic=1.8679404345702795, pvalue=0.084472971958650486)"
      ]
     },
     "execution_count": 15,
     "metadata": {},
     "output_type": "execute_result"
    }
   ],
   "source": [
    "red = list(df['value_1'])\n",
    "green = list(df['value_2'])\n",
    "res = stats.ttest_rel(red, green)\n",
    "res"
   ]
  },
  {
   "cell_type": "code",
   "execution_count": null,
   "metadata": {
    "collapsed": true
   },
   "outputs": [],
   "source": []
  }
 ],
 "metadata": {
  "anaconda-cloud": {},
  "kernelspec": {
   "display_name": "Python [default]",
   "language": "python",
   "name": "python3"
  },
  "language_info": {
   "codemirror_mode": {
    "name": "ipython",
    "version": 3
   },
   "file_extension": ".py",
   "mimetype": "text/x-python",
   "name": "python",
   "nbconvert_exporter": "python",
   "pygments_lexer": "ipython3",
   "version": "3.5.2"
  }
 },
 "nbformat": 4,
 "nbformat_minor": 1
}
